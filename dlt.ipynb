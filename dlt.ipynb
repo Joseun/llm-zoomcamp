{
 "cells": [
  {
   "cell_type": "code",
   "execution_count": null,
   "id": "bc270935",
   "metadata": {},
   "outputs": [],
   "source": [
    "import dlt\n",
    "import requests\n",
    "from dlt.destinations import qdrant"
   ]
  },
  {
   "cell_type": "code",
   "execution_count": 4,
   "id": "d1a26e21",
   "metadata": {},
   "outputs": [
    {
     "name": "stdout",
     "output_type": "stream",
     "text": [
      "\u001b[39mdlt 1.13.0\u001b[0m\n"
     ]
    }
   ],
   "source": [
    "!dlt --version "
   ]
  },
  {
   "cell_type": "code",
   "execution_count": 2,
   "id": "18ae308f",
   "metadata": {},
   "outputs": [],
   "source": [
    "# Step 1: Create DLT resource\n",
    "@dlt.resource(write_disposition=\"replace\", name=\"zoomcamp_data\")\n",
    "def zoomcamp_data():\n",
    "    docs_url = 'https://github.com/alexeygrigorev/llm-rag-workshop/raw/main/notebooks/documents.json'\n",
    "    docs_response = requests.get(docs_url)\n",
    "    documents_raw = docs_response.json()\n",
    "\n",
    "    for course in documents_raw:\n",
    "        course_name = course['course']\n",
    "\n",
    "        for doc in course['documents']:\n",
    "            doc['course'] = course_name\n",
    "            yield doc"
   ]
  },
  {
   "cell_type": "code",
   "execution_count": 8,
   "id": "e8341aef",
   "metadata": {},
   "outputs": [
    {
     "data": {
      "application/vnd.jupyter.widget-view+json": {
       "model_id": "f28bb9e17666419eacbac977ebfc2d52",
       "version_major": 2,
       "version_minor": 0
      },
      "text/plain": [
       "Fetching 5 files:   0%|          | 0/5 [00:00<?, ?it/s]"
      ]
     },
     "metadata": {},
     "output_type": "display_data"
    },
    {
     "data": {
      "application/vnd.jupyter.widget-view+json": {
       "model_id": "2feec2a8837848169fc5bbaee2f40a1e",
       "version_major": 2,
       "version_minor": 0
      },
      "text/plain": [
       "special_tokens_map.json:   0%|          | 0.00/125 [00:00<?, ?B/s]"
      ]
     },
     "metadata": {},
     "output_type": "display_data"
    },
    {
     "data": {
      "application/vnd.jupyter.widget-view+json": {
       "model_id": "001f1fcc80154d178d1e440f38f0e9fc",
       "version_major": 2,
       "version_minor": 0
      },
      "text/plain": [
       "config.json:   0%|          | 0.00/701 [00:00<?, ?B/s]"
      ]
     },
     "metadata": {},
     "output_type": "display_data"
    },
    {
     "data": {
      "application/vnd.jupyter.widget-view+json": {
       "model_id": "c722b596a4534e7185aab72a129c10f8",
       "version_major": 2,
       "version_minor": 0
      },
      "text/plain": [
       "tokenizer_config.json:   0%|          | 0.00/366 [00:00<?, ?B/s]"
      ]
     },
     "metadata": {},
     "output_type": "display_data"
    },
    {
     "data": {
      "application/vnd.jupyter.widget-view+json": {
       "model_id": "81df5a8cbf58424eacf9d0fff2bc753c",
       "version_major": 2,
       "version_minor": 0
      },
      "text/plain": [
       "tokenizer.json: 0.00B [00:00, ?B/s]"
      ]
     },
     "metadata": {},
     "output_type": "display_data"
    },
    {
     "data": {
      "application/vnd.jupyter.widget-view+json": {
       "model_id": "3bb07d96cd824bac92b395c6fd2d1e1d",
       "version_major": 2,
       "version_minor": 0
      },
      "text/plain": [
       "model_optimized.onnx:   0%|          | 0.00/133M [00:00<?, ?B/s]"
      ]
     },
     "metadata": {},
     "output_type": "display_data"
    },
    {
     "name": "stdout",
     "output_type": "stream",
     "text": [
      "Run started at 2025-07-10 18:33:55.233184+00:00 and COMPLETED in 9.80 seconds with 4 steps.\n",
      "Step extract COMPLETED in 0.48 seconds.\n",
      "\n",
      "Load package 1752172440.3707871 is EXTRACTED and NOT YET LOADED to the destination and contains no failed jobs\n",
      "\n",
      "Step normalize COMPLETED in 0.10 seconds.\n",
      "Normalized data for the following tables:\n",
      "- _dlt_pipeline_state: 1 row(s)\n",
      "- zoomcamp_data: 948 row(s)\n",
      "\n",
      "Load package 1752172440.3707871 is NORMALIZED and NOT YET LOADED to the destination and contains no failed jobs\n",
      "\n",
      "Step load COMPLETED in 4.09 seconds.\n",
      "Pipeline zoomcamp_pipeline load step completed in 4.07 seconds\n",
      "1 load package(s) were loaded to destination qdrant and into dataset zoomcamp_tagged_data\n",
      "The qdrant destination used /workspaces/llm-zoomcamp/db.qdrant location to store data\n",
      "Load package 1752172440.3707871 is LOADED and contains no failed jobs\n",
      "\n",
      "Step run COMPLETED in 9.80 seconds.\n",
      "Pipeline zoomcamp_pipeline load step completed in 4.07 seconds\n",
      "1 load package(s) were loaded to destination qdrant and into dataset zoomcamp_tagged_data\n",
      "The qdrant destination used /workspaces/llm-zoomcamp/db.qdrant location to store data\n",
      "Load package 1752172440.3707871 is LOADED and contains no failed jobs\n"
     ]
    }
   ],
   "source": [
    "qdrant_destination = qdrant(\n",
    "  qd_path=\"db.qdrant\", \n",
    ")\n",
    "\n",
    "\n",
    "# Step 2: Create and run the pipeline\n",
    "pipeline = dlt.pipeline(\n",
    "    pipeline_name=\"zoomcamp_pipeline\",\n",
    "    destination=qdrant_destination,\n",
    "    dataset_name=\"zoomcamp_tagged_data\"\n",
    "\n",
    ")\n",
    "load_info = pipeline.run(zoomcamp_data())\n",
    "print(pipeline.last_trace)"
   ]
  },
  {
   "cell_type": "code",
   "execution_count": 13,
   "id": "71ce5399",
   "metadata": {},
   "outputs": [
    {
     "name": "stdout",
     "output_type": "stream",
     "text": [
      "File Content:\n",
      "{\"collections\": {\"zoomcamp_tagged_data\": {\"vectors\": {\"fast-bge-small-en\": {\"size\": 384, \"distance\": \"Cosine\", \"hnsw_config\": null, \"quantization_config\": null, \"on_disk\": null, \"datatype\": null, \"multivector_config\": null}}, \"shard_number\": null, \"sharding_method\": null, \"replication_factor\": null, \"write_consistency_factor\": null, \"on_disk_payload\": null, \"hnsw_config\": null, \"wal_config\": null, \"optimizers_config\": null, \"init_from\": null, \"quantization_config\": null, \"sparse_vectors\": null, \"strict_mode_config\": null}, \"zoomcamp_tagged_data__dlt_pipeline_state\": {\"vectors\": {\"fast-bge-small-en\": {\"size\": 384, \"distance\": \"Cosine\", \"hnsw_config\": null, \"quantization_config\": null, \"on_disk\": null, \"datatype\": null, \"multivector_config\": null}}, \"shard_number\": null, \"sharding_method\": null, \"replication_factor\": null, \"write_consistency_factor\": null, \"on_disk_payload\": null, \"hnsw_config\": null, \"wal_config\": null, \"optimizers_config\": null, \"init_from\": null, \"quantization_config\": null, \"sparse_vectors\": null, \"strict_mode_config\": null}, \"zoomcamp_tagged_data__dlt_loads\": {\"vectors\": {\"fast-bge-small-en\": {\"size\": 384, \"distance\": \"Cosine\", \"hnsw_config\": null, \"quantization_config\": null, \"on_disk\": null, \"datatype\": null, \"multivector_config\": null}}, \"shard_number\": null, \"sharding_method\": null, \"replication_factor\": null, \"write_consistency_factor\": null, \"on_disk_payload\": null, \"hnsw_config\": null, \"wal_config\": null, \"optimizers_config\": null, \"init_from\": null, \"quantization_config\": null, \"sparse_vectors\": null, \"strict_mode_config\": null}, \"zoomcamp_tagged_data__dlt_version\": {\"vectors\": {\"fast-bge-small-en\": {\"size\": 384, \"distance\": \"Cosine\", \"hnsw_config\": null, \"quantization_config\": null, \"on_disk\": null, \"datatype\": null, \"multivector_config\": null}}, \"shard_number\": null, \"sharding_method\": null, \"replication_factor\": null, \"write_consistency_factor\": null, \"on_disk_payload\": null, \"hnsw_config\": null, \"wal_config\": null, \"optimizers_config\": null, \"init_from\": null, \"quantization_config\": null, \"sparse_vectors\": null, \"strict_mode_config\": null}, \"zoomcamp_tagged_data_zoomcamp_data\": {\"vectors\": {\"fast-bge-small-en\": {\"size\": 384, \"distance\": \"Cosine\", \"hnsw_config\": null, \"quantization_config\": null, \"on_disk\": null, \"datatype\": null, \"multivector_config\": null}}, \"shard_number\": null, \"sharding_method\": null, \"replication_factor\": null, \"write_consistency_factor\": null, \"on_disk_payload\": null, \"hnsw_config\": null, \"wal_config\": null, \"optimizers_config\": null, \"init_from\": null, \"quantization_config\": null, \"sparse_vectors\": null, \"strict_mode_config\": null}}, \"aliases\": {}}\n"
     ]
    }
   ],
   "source": [
    "# Open the file in read mode\n",
    "file_path = 'db.qdrant/meta.json'\n",
    "\n",
    "try:\n",
    "    with open(file_path, 'r') as file:\n",
    "        # Read the content of the file\n",
    "        file_content = file.read()\n",
    "        \n",
    "        # Print the content\n",
    "        print(f\"File Content:\\n{file_content}\")\n",
    "\n",
    "except FileNotFoundError:\n",
    "    print(f\"File '{file_path}' not found.\")\n",
    "except Exception as e:\n",
    "    print(f\"An error occurred: {e}\")"
   ]
  }
 ],
 "metadata": {
  "kernelspec": {
   "display_name": "Python 3",
   "language": "python",
   "name": "python3"
  },
  "language_info": {
   "codemirror_mode": {
    "name": "ipython",
    "version": 3
   },
   "file_extension": ".py",
   "mimetype": "text/x-python",
   "name": "python",
   "nbconvert_exporter": "python",
   "pygments_lexer": "ipython3",
   "version": "3.12.1"
  }
 },
 "nbformat": 4,
 "nbformat_minor": 5
}
